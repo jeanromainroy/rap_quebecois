{
 "cells": [
  {
   "cell_type": "code",
   "execution_count": null,
   "metadata": {},
   "outputs": [],
   "source": [
    "import cv2\n",
    "import numpy as np\n",
    "import glob\n",
    "\n",
    "# Path to the directory containing all the artists\n",
    "imgsPath = \"data/*/img.jpg\"\n",
    "imgsPath = glob.glob(imgsPath)\n",
    "\n",
    "for imgPath in imgsPath:\n",
    "    \n",
    "    # Load image\n",
    "    img_src = cv2.imread(imgPath)\n",
    "    \n",
    "    # Convert to grayscale\n",
    "    gray = cv2.cvtColor(img_src, cv2.COLOR_BGR2GRAY)\n",
    "    \n",
    "    # Get shape\n",
    "    height,width = gray.shape\n",
    "    \n",
    "    # Get circle dimensions\n",
    "    midX = round(width/2.0)\n",
    "    midY = round(height/2.0)\n",
    "    radius = 0\n",
    "    if midX > midY:\n",
    "        radius = midY\n",
    "    else:\n",
    "        radius = midX\n",
    "        \n",
    "    # Crop\n",
    "    cropped = gray[(midY-radius):(midY+radius),(midX-radius):(midX+radius)]\n",
    "    \n",
    "    # Resize\n",
    "    resized = cv2.resize(cropped,(300,300))\n",
    "    \n",
    "    # Get shape\n",
    "    height,width = resized.shape\n",
    "    \n",
    "    # Get circle dimensions\n",
    "    midX = round(width/2.0)\n",
    "    midY = round(height/2.0)\n",
    "    radius = 0\n",
    "    if midX > midY:\n",
    "        radius = midY\n",
    "    else:\n",
    "        radius = midX\n",
    "    \n",
    "    # Create mask\n",
    "    mask = np.zeros((height,width), np.uint8)\n",
    "        \n",
    "    # Draw Circle on mask\n",
    "    border = 6\n",
    "    mask1 = cv2.circle(mask,(midX,midY), radius-border, (255,255,255), -1)\n",
    "    \n",
    "    # Apply mask\n",
    "    masked_data = cv2.bitwise_and(resized, mask1)\n",
    "    \n",
    "    # Add contour\n",
    "    mask2 = cv2.circle(mask,(midX,midY), radius, (255,255,255), -1)\n",
    "    mask2 = cv2.bitwise_not(mask2)\n",
    "    masked_data = cv2.bitwise_or(masked_data, mask2)\n",
    "    \n",
    "    # Write image\n",
    "    newImgPath = \"/\".join(imgPath.split(\"/\")[:-1]) + \"/cropped.jpg\"    \n",
    "    cv2.imwrite(newImgPath,masked_data)    "
   ]
  },
  {
   "cell_type": "code",
   "execution_count": null,
   "metadata": {},
   "outputs": [],
   "source": [
    "cv2.imshow('ImageWindow', masked_data)\n",
    "cv2.waitKey(0)\n",
    "cv2.destroyAllWindows()"
   ]
  }
 ],
 "metadata": {
  "kernelspec": {
   "display_name": "Python 3",
   "language": "python",
   "name": "python3"
  },
  "language_info": {
   "codemirror_mode": {
    "name": "ipython",
    "version": 3
   },
   "file_extension": ".py",
   "mimetype": "text/x-python",
   "name": "python",
   "nbconvert_exporter": "python",
   "pygments_lexer": "ipython3",
   "version": "3.6.7"
  }
 },
 "nbformat": 4,
 "nbformat_minor": 2
}
