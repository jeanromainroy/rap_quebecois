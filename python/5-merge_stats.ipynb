{
 "cells": [
  {
   "cell_type": "code",
   "execution_count": null,
   "metadata": {},
   "outputs": [],
   "source": [
    "\n",
    "\n",
    "results = []\n",
    "\n",
    "for dirname in dirnames:\n",
    "    \n",
    "    fName = dirname + \"/unique_words3500.txt\"\n",
    "    fName2 = dirname + \"/words.txt\"\n",
    "    \n",
    "    if os.path.exists(fName):\n",
    "        \n",
    "        # Load the artist's json file\n",
    "        f = open(fName,\"r\")\n",
    "        f2 = open(fName2,\"r\")\n",
    "\n",
    "        if f.mode == 'r' and f2.mode == 'r':\n",
    "            content = f.read()\n",
    "            content = content.split(',')\n",
    "\n",
    "            content2 = f2.read()\n",
    "            content2 = content2.split(',')\n",
    "\n",
    "            results.append([len(content),dirname.split(\"/\")[-1],len(content2)])\n",
    "    \n",
    "\n",
    "sorted_results = sorted(results, key=lambda tup: tup[0])\n",
    "sorted_results = list(reversed(sorted_results))\n",
    "\n",
    "index = 1\n",
    "for res in sorted_results:\n",
    "    if res[2] > 3500:\n",
    "        print(str(index) + \". \" + res[1] + \" (\" + str(res[0]) + \" - \" + str(res[2]) + \")\")\n",
    "        index = index + 1"
   ]
  },
  {
   "cell_type": "code",
   "execution_count": 9,
   "metadata": {},
   "outputs": [
    {
     "name": "stdout",
     "output_type": "stream",
     "text": [
      "nbr_words_checked,7500\n",
      "nbr_of_samples,20\n",
      "average,2003.0\n",
      "median,2016.0\n",
      "standard deviation,18.0\n",
      "max,2019\n",
      "min,1973\n",
      "\n"
     ]
    }
   ],
   "source": [
    "import glob\n",
    "\n",
    "# Path to the directory containing all the artists\n",
    "filesPath = \"../data/*/*statistics.txt\"\n",
    "filesPath = glob.glob(filesPath)\n",
    "\n",
    "keys = ['nbr_words_checked','nbr_of_samples','nbr_of_words','average','median','standard deviation','max','min']\n",
    "\n",
    "for filePath in filesPath:\n",
    "    \n",
    "    # Load the artist's json file\n",
    "    f = open(filePath,\"r\")\n",
    "\n",
    "    if f.mode == 'r':\n",
    "        \n",
    "        content = f.read()\n",
    "        content = content.split('\\n')\n",
    "        \n",
    "        for line in content:\n",
    "            \n",
    "            line_split = line.split(\",\")\n",
    "            \n",
    "            token = line_split[0]\n",
    "            value = line_split[1]\n",
    "            \n",
    "            index = 0\n",
    "            for key in keys:\n",
    "                if token == key:\n",
    "                    break\n",
    "                \n",
    "                index = index + 1\n",
    "                \n",
    "            \n",
    "            \n",
    "            \n",
    "            \n",
    "        break\n",
    "    "
   ]
  },
  {
   "cell_type": "code",
   "execution_count": 4,
   "metadata": {},
   "outputs": [
    {
     "data": {
      "text/plain": [
       "['nbr_words_checked',\n",
       " '7500\\nnbr_of_samples',\n",
       " '20\\naverage',\n",
       " '2003.0\\nmedian',\n",
       " '2016.0\\nstandard deviation',\n",
       " '18.0\\nmax',\n",
       " '2019\\nmin',\n",
       " '1973\\n']"
      ]
     },
     "execution_count": 4,
     "metadata": {},
     "output_type": "execute_result"
    }
   ],
   "source": [
    "content"
   ]
  },
  {
   "cell_type": "code",
   "execution_count": null,
   "metadata": {},
   "outputs": [],
   "source": []
  }
 ],
 "metadata": {
  "kernelspec": {
   "display_name": "Python 3",
   "language": "python",
   "name": "python3"
  },
  "language_info": {
   "codemirror_mode": {
    "name": "ipython",
    "version": 3
   },
   "file_extension": ".py",
   "mimetype": "text/x-python",
   "name": "python",
   "nbconvert_exporter": "python",
   "pygments_lexer": "ipython3",
   "version": "3.6.7"
  }
 },
 "nbformat": 4,
 "nbformat_minor": 2
}
