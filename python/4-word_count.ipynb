{
 "cells": [
  {
   "cell_type": "code",
   "execution_count": 2,
   "metadata": {},
   "outputs": [
    {
     "name": "stdout",
     "output_type": "stream",
     "text": [
      "1. La Constellation (1463 - 3791)\n",
      "2. Dubmatique (1387 - 6311)\n",
      "3. Koriass (1355 - 41307)\n",
      "4. Manu Militari (1353 - 26607)\n",
      "5. Loco Locass (1332 - 21337)\n",
      "6. Loud  Lary  Ajust (1312 - 26336)\n",
      "7. Bad Nylon (1296 - 6498)\n",
      "8. Osti One (1292 - 6255)\n",
      "9. K6A (1253 - 6865)\n",
      "10. Muzion (1216 - 11569)\n",
      "11. Anodajay (1216 - 7608)\n",
      "12. Rymz (1208 - 18590)\n",
      "13. Loud (Canada) (1161 - 7842)\n",
      "14. Dead Obies (1159 - 34685)\n",
      "15. Connaisseur (1158 - 10062)\n",
      "16. Eman x Vlooper (1148 - 9724)\n",
      "17. Taktika (1147 - 7585)\n",
      "18. LaF (Montreal) (1122 - 4041)\n",
      "19. Rainmen (1105 - 5833)\n",
      "20. KenLo (1104 - 7698)\n",
      "21. Sans Pression (1096 - 18215)\n",
      "22. Roi Heenok (1095 - 12820)\n",
      "23. ST x LIAM (1077 - 14126)\n",
      "24. Jay Scøtt X Smitty Bacalley (1007 - 4985)\n",
      "25. Seba et Horg (1003 - 6588)\n",
      "26. Obia le Chef (995 - 4507)\n",
      "27. Les Anticipateurs (991 - 36409)\n",
      "28. Alaclair Ensemble (991 - 47412)\n",
      "29. Omnikrom (989 - 3522)\n",
      "30. Maybe Watson (979 - 8158)\n",
      "31. Lary Kidd (976 - 10181)\n",
      "32. FouKi (975 - 13480)\n",
      "33. Souldia (972 - 35147)\n",
      "34. Rowjay (962 - 9769)\n",
      "35. Yes Mccan (948 - 7622)\n",
      "36. WHITE-B (928 - 13772)\n",
      "37. M.B (876 - 14331)\n",
      "38. Sir Pathétik (835 - 12491)\n",
      "39. Joe Rocca (829 - 6285)\n",
      "40. K-maro (794 - 20672)\n",
      "41. IZZY-S (780 - 24902)\n",
      "42. Enima (774 - 39752)\n",
      "43. Brown Family (766 - 5348)\n"
     ]
    }
   ],
   "source": [
    "import glob\n",
    "import os\n",
    "\n",
    "# Path to the directory containing all the artists\n",
    "dirPath = \"../data/*\"\n",
    "dirnames = glob.glob(dirPath)\n",
    "\n",
    "results = []\n",
    "\n",
    "for dirname in dirnames:\n",
    "    \n",
    "    fName = dirname + \"/unique_words3500.txt\"\n",
    "    fName2 = dirname + \"/words.txt\"\n",
    "    \n",
    "    if os.path.exists(fName):\n",
    "        \n",
    "        # Load the artist's json file\n",
    "        f = open(fName,\"r\")\n",
    "        f2 = open(fName2,\"r\")\n",
    "\n",
    "        if f.mode == 'r' and f2.mode == 'r':\n",
    "            content = f.read()\n",
    "            content = content.split(',')\n",
    "\n",
    "            content2 = f2.read()\n",
    "            content2 = content2.split(',')\n",
    "\n",
    "            results.append([len(content),dirname.split(\"/\")[-1],len(content2)])\n",
    "    \n",
    "\n",
    "sorted_results = sorted(results, key=lambda tup: tup[0])\n",
    "sorted_results = list(reversed(sorted_results))\n",
    "\n",
    "index = 1\n",
    "for res in sorted_results:\n",
    "    if res[2] > 3500:\n",
    "        print(str(index) + \". \" + res[1] + \" (\" + str(res[0]) + \" - \" + str(res[2]) + \")\")\n",
    "        index = index + 1"
   ]
  },
  {
   "cell_type": "code",
   "execution_count": null,
   "metadata": {},
   "outputs": [],
   "source": []
  }
 ],
 "metadata": {
  "kernelspec": {
   "display_name": "Python 3",
   "language": "python",
   "name": "python3"
  },
  "language_info": {
   "codemirror_mode": {
    "name": "ipython",
    "version": 3
   },
   "file_extension": ".py",
   "mimetype": "text/x-python",
   "name": "python",
   "nbconvert_exporter": "python",
   "pygments_lexer": "ipython3",
   "version": "3.6.7"
  }
 },
 "nbformat": 4,
 "nbformat_minor": 2
}
