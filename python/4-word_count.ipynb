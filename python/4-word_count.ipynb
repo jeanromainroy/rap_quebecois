{
 "cells": [
  {
   "cell_type": "code",
   "execution_count": 27,
   "metadata": {},
   "outputs": [
    {
     "name": "stdout",
     "output_type": "stream",
     "text": [
      "1. AlaclairEnsemble (6965 - 47412)\n",
      "2. Koriass (6258 - 41307)\n",
      "3. ManuMilitari (5550 - 26607)\n",
      "4. LocoLocass (5039 - 21337)\n",
      "5. LesAnticipateurs (4860 - 36409)\n",
      "6. DeadObies (4627 - 34685)\n",
      "7. Souldia (4587 - 35147)\n",
      "8. Loud Lary Ajust (3878 - 26336)\n",
      "9. Rymz (3506 - 18590)\n",
      "10. Enima (3480 - 39752)\n",
      "11. SansPression (3240 - 18215)\n",
      "12. ST x LIAM (2942 - 14126)\n",
      "13. Muzion (2877 - 11569)\n",
      "14. RoiHeenok (2688 - 12820)\n",
      "15. IZZY-S (2548 - 24902)\n",
      "16. Connaisseur (2407 - 10062)\n",
      "17. K-maro (2351 - 20672)\n",
      "18. M.B (2305 - 14331)\n",
      "19. FouKi (2301 - 13480)\n",
      "20. Eman X Vlooper (2199 - 9724)\n",
      "21. Anodajay (2104 - 7608)\n",
      "22. Loud (Canada) (2029 - 7842)\n",
      "23. White-B (1990 - 13772)\n",
      "24. SirPathétik (1956 - 12491)\n",
      "25. Taktika (1954 - 7585)\n",
      "26. LaryKidd (1915 - 10181)\n",
      "27. KenLo (1825 - 7698)\n",
      "28. MaybeWatson (1775 - 8158)\n",
      "29. Rowjay (1733 - 9769)\n",
      "30. YesMccan (1680 - 7622)\n"
     ]
    }
   ],
   "source": [
    "import glob\n",
    "import os\n",
    "\n",
    "# Path to the directory containing all the artists\n",
    "dirPath = \"../data/*\"\n",
    "dirnames = glob.glob(dirPath)\n",
    "\n",
    "results = []\n",
    "\n",
    "for dirname in dirnames:\n",
    "    \n",
    "    fName = dirname + \"/unique_words.txt\"\n",
    "    fName2 = dirname + \"/words.txt\"\n",
    "    \n",
    "    if os.path.exists(fName):\n",
    "        \n",
    "        # Load the artist's json file\n",
    "        f = open(fName,\"r\")\n",
    "        f2 = open(fName2,\"r\")\n",
    "\n",
    "        if f.mode == 'r' and f2.mode == 'r':\n",
    "            content = f.read()\n",
    "            content = content.split(',')\n",
    "\n",
    "            content2 = f2.read()\n",
    "            content2 = content2.split(',')\n",
    "\n",
    "            results.append([len(content),dirname.split(\"/\")[-1],len(content2)])\n",
    "    \n",
    "\n",
    "sorted_results = sorted(results, key=lambda tup: tup[0])\n",
    "sorted_results = list(reversed(sorted_results))\n",
    "\n",
    "index = 1\n",
    "for res in sorted_results:\n",
    "    if res[2] > 7500:\n",
    "        print(str(index) + \". \" + res[1] + \" (\" + str(res[0]) + \" - \" + str(res[2]) + \")\")\n",
    "        index = index + 1"
   ]
  },
  {
   "cell_type": "code",
   "execution_count": null,
   "metadata": {},
   "outputs": [],
   "source": []
  }
 ],
 "metadata": {
  "kernelspec": {
   "display_name": "Python 3",
   "language": "python",
   "name": "python3"
  },
  "language_info": {
   "codemirror_mode": {
    "name": "ipython",
    "version": 3
   },
   "file_extension": ".py",
   "mimetype": "text/x-python",
   "name": "python",
   "nbconvert_exporter": "python",
   "pygments_lexer": "ipython3",
   "version": "3.6.7"
  }
 },
 "nbformat": 4,
 "nbformat_minor": 2
}
