{
 "cells": [
  {
   "cell_type": "code",
   "execution_count": null,
   "metadata": {},
   "outputs": [],
   "source": [
    "# Here are listed all the artist's keys from the Genis website\n",
    "\n",
    "artist_keys = [\"Loud (Canada)\",\"Lary Kidd\",\"Loud  Lary  Ajust\",\"Koriass\",\"FouKi\",\n",
    "               \"Alaclair Ensemble\",\"Dead Obies\",\"Kirouac\",\"LaF (Montreal)\",\n",
    "               \"Sans Pression\",\"Roi Heenok\",\"Souldia\",\"Sarahmée\",\"Marie-Gold (Canada)\",\n",
    "               \"Manu Militari\",\"O.G.B (Canada)\",\"Rymz\",\"Les Anticipateurs\",\"Loco Locass\",\n",
    "               \"Taktika\",\"IZZY-S\",\"Dubmatique\",\"Tizzo\",\"Muzion\",\"Rainmen\",\"La Constellation\",\n",
    "               \"Atach Tatuq\",\"Omnikrom\",\"Telus\",\"K6A\",\"Sir Pathétik\",\"K-maro\",\n",
    "               \"Connaisseur\",\"Vendou\",\"Brown Family\",\"Rowjay\",\"Yes Mccan\",\"Lost [FR]\",\n",
    "               \"KenLo\",\"Enima\",\"WHITE-B\",\"Maybe Watson\",\"Anodajay\",\"Joe Rocca\",\n",
    "               \"Bad Nylon\",\"M.B\",\"Obia le Chef\",\"Jay Scøtt X Smitty Bacalley\",\"ST x LIAM\",\n",
    "               \"Eman x Vlooper\",\"Seba et Horg\",\"Osti One\"]                \n"
   ]
  },
  {
   "cell_type": "code",
   "execution_count": null,
   "metadata": {},
   "outputs": [],
   "source": [
    "# --- Here we import the discography of each artist --- \n",
    "\n",
    "import lyricsgenius\n",
    "\n",
    "# API Key\n",
    "genius = lyricsgenius.Genius(\"H2yblivEMXfYjLQZ3CFqwKFjWrvhLq0MpVguUk-ZibsaZ3k0poq-ePzOHU0_255z\")\n",
    "\n",
    "failures = []\n",
    "\n",
    "\n",
    "for index in range(11,len(artist_keys)):\n",
    "    artist_key = artist_keys[index]\n",
    "    \n",
    "    # Create the directory path\n",
    "    dirPath = \"../data/\" + artist_key + \"/\"\n",
    "    \n",
    "    # Get all songs from the artist\n",
    "    artist = genius.search_artist(artist_key)\n",
    "    \n",
    "    # Save the songs if the artist was found\n",
    "    if artist:\n",
    "        \n",
    "        artist.save_lyrics(overwrite=True,dirPath=dirPath)\n",
    "        \n",
    "        # Write all lyrics to a file inside dir\n",
    "        newFileName = dirPath + \"img_url.txt\"\n",
    "\n",
    "        f = open(newFileName, \"w\")\n",
    "        f.write(artist._body['image_url'])\n",
    "        f.close()\n",
    "        \n",
    "    else:\n",
    "        failures.append(artist_key)\n",
    "\n",
    "    \n",
    "    \n",
    "# Prompt the user with all the artists that couldn't be found\n",
    "print(\"FAILED FOR : \" + str(failures))"
   ]
  },
  {
   "cell_type": "code",
   "execution_count": null,
   "metadata": {},
   "outputs": [],
   "source": []
  }
 ],
 "metadata": {
  "kernelspec": {
   "display_name": "Python 3",
   "language": "python",
   "name": "python3"
  },
  "language_info": {
   "codemirror_mode": {
    "name": "ipython",
    "version": 3
   },
   "file_extension": ".py",
   "mimetype": "text/x-python",
   "name": "python",
   "nbconvert_exporter": "python",
   "pygments_lexer": "ipython3",
   "version": "3.6.7"
  }
 },
 "nbformat": 4,
 "nbformat_minor": 2
}
