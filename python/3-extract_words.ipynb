{
 "cells": [
  {
   "cell_type": "code",
   "execution_count": null,
   "metadata": {},
   "outputs": [],
   "source": [
    "def extract_words(content,dirname):\n",
    "\n",
    "    lastPointer = 0\n",
    "    uniqueWords = []\n",
    "    words = []\n",
    "    \n",
    "    for counter in range(0,len(content)):\n",
    "\n",
    "        # If current character is a space\n",
    "        if content[counter] == \" \":\n",
    "            \n",
    "            # Substring the new word\n",
    "            newWord = content[lastPointer:counter].strip()\n",
    "            \n",
    "            # Position pointer on character right after space\n",
    "            lastPointer = counter + 1\n",
    "            \n",
    "            # If the new word is not empty\n",
    "            if newWord != \"\":\n",
    "                \n",
    "                words.append(newWord)\n",
    "                                \n",
    "    \n",
    "    # Write all lyrics to a file inside dir\n",
    "    newFileName = dirname + \"/all_words.txt\"\n",
    "    \n",
    "    f = open(newFileName, \"w\")\n",
    "    f.write(\",\".join(words))\n",
    "    f.close()\n",
    "    "
   ]
  },
  {
   "cell_type": "code",
   "execution_count": null,
   "metadata": {},
   "outputs": [],
   "source": [
    "import glob\n",
    "\n",
    "# Path to the directory containing all the artists\n",
    "dirPath = \"data/*\"\n",
    "dirnames = glob.glob(dirPath)\n",
    "\n",
    "results = []\n",
    "\n",
    "\n",
    "for dirname in dirnames:\n",
    "    \n",
    "    # Load the artist's json file\n",
    "    f = open(dirname + \"/all_lyrics.txt\",\"r\")\n",
    "    \n",
    "    if f.mode == 'r':\n",
    "        content = f.read()\n",
    "        \n",
    "        extract_words(content,dirname)\n",
    "        \n",
    "        print(dirname)\n",
    "    "
   ]
  }
 ],
 "metadata": {
  "kernelspec": {
   "display_name": "Python 3",
   "language": "python",
   "name": "python3"
  },
  "language_info": {
   "codemirror_mode": {
    "name": "ipython",
    "version": 3
   },
   "file_extension": ".py",
   "mimetype": "text/x-python",
   "name": "python",
   "nbconvert_exporter": "python",
   "pygments_lexer": "ipython3",
   "version": "3.6.7"
  }
 },
 "nbformat": 4,
 "nbformat_minor": 2
}
