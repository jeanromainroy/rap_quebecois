{
 "cells": [
  {
   "cell_type": "code",
   "execution_count": 2,
   "metadata": {},
   "outputs": [],
   "source": [
    "def extract_words(content,dirname):\n",
    "\n",
    "    lastPointer = 0\n",
    "    uniqueWords = []\n",
    "    words = []\n",
    "    \n",
    "    for counter in range(0,len(content)):\n",
    "\n",
    "        # If current character is a space\n",
    "        if content[counter] == \" \":\n",
    "            \n",
    "            # Substring the new word\n",
    "            newWord = content[lastPointer:counter].strip()\n",
    "            \n",
    "            # Position pointer on character right after space\n",
    "            lastPointer = counter + 1\n",
    "            \n",
    "            # If the new word is not empty\n",
    "            if newWord != \"\":\n",
    "                \n",
    "                words.append(newWord)\n",
    "                                \n",
    "    \n",
    "    # Write all lyrics to a file inside dir\n",
    "    newFileName = dirname + \"/all_words.txt\"\n",
    "    \n",
    "    f = open(newFileName, \"w\")\n",
    "    f.write(\",\".join(words))\n",
    "    f.close()\n",
    "    "
   ]
  },
  {
   "cell_type": "code",
   "execution_count": 3,
   "metadata": {},
   "outputs": [
    {
     "name": "stdout",
     "output_type": "stream",
     "text": [
      "data/Loud (Canada)\n",
      "data/Enima\n",
      "data/Anodajay\n",
      "data/La Constellation\n",
      "data/Rainmen\n",
      "data/Koriass\n",
      "data/K-maro\n",
      "data/Marie-Gold (Canada)\n",
      "data/Manu Militari\n",
      "data/Bad Nylon\n",
      "data/Brown Family\n",
      "data/Taktika\n",
      "data/K6A\n",
      "data/Osti One\n",
      "data/Loud  Lary  Ajust\n",
      "data/FouKi\n",
      "data/Rymz\n",
      "data/Kirouac\n",
      "data/Yes Mccan\n",
      "data/Dead Obies\n",
      "data/Roi Heenok\n",
      "data/WHITE-B\n",
      "data/Vendou\n",
      "data/Alaclair Ensemble\n",
      "data/Sarahmée\n",
      "data/Atach Tatuq\n",
      "data/Obia le Chef\n",
      "data/Eman x Vlooper\n",
      "data/Sans Pression\n",
      "data/Seba et Horg\n",
      "data/Rowjay\n",
      "data/Les Anticipateurs\n",
      "data/Maybe Watson\n",
      "data/Tizzo\n",
      "data/Connaisseur\n",
      "data/Lost [FR]\n",
      "data/KenLo\n",
      "data/O.G.B (Canada)\n",
      "data/Souldia\n",
      "data/ST x LIAM\n",
      "data/Loco Locass\n",
      "data/Sir Pathétik\n",
      "data/Omnikrom\n",
      "data/Dubmatique\n",
      "data/LaF (Montreal)\n",
      "data/Joe Rocca\n",
      "data/IZZY-S\n",
      "data/Jay Scøtt X Smitty Bacalley\n",
      "data/Telus\n",
      "data/Lary Kidd\n",
      "data/Muzion\n",
      "data/M.B\n"
     ]
    }
   ],
   "source": [
    "import glob\n",
    "\n",
    "# Path to the directory containing all the artists\n",
    "dirPath = \"data/*\"\n",
    "dirnames = glob.glob(dirPath)\n",
    "\n",
    "results = []\n",
    "\n",
    "\n",
    "for dirname in dirnames:\n",
    "    \n",
    "    # Load the artist's json file\n",
    "    f = open(dirname + \"/all_lyrics.txt\",\"r\")\n",
    "    \n",
    "    if f.mode == 'r':\n",
    "        content = f.read()\n",
    "        \n",
    "        extract_words(content,dirname)\n",
    "        \n",
    "        print(dirname)\n",
    "    "
   ]
  },
  {
   "cell_type": "code",
   "execution_count": 4,
   "metadata": {},
   "outputs": [
    {
     "name": "stdout",
     "output_type": "stream",
     "text": [
      "658216\n"
     ]
    }
   ],
   "source": [
    "print(nbrOfWords)"
   ]
  },
  {
   "cell_type": "code",
   "execution_count": null,
   "metadata": {},
   "outputs": [],
   "source": []
  }
 ],
 "metadata": {
  "kernelspec": {
   "display_name": "Python 3",
   "language": "python",
   "name": "python3"
  },
  "language_info": {
   "codemirror_mode": {
    "name": "ipython",
    "version": 3
   },
   "file_extension": ".py",
   "mimetype": "text/x-python",
   "name": "python",
   "nbconvert_exporter": "python",
   "pygments_lexer": "ipython3",
   "version": "3.6.7"
  }
 },
 "nbformat": 4,
 "nbformat_minor": 2
}
