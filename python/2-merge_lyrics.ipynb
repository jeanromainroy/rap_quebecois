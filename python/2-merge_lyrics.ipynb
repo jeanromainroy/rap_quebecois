{
 "cells": [
  {
   "cell_type": "code",
   "execution_count": null,
   "metadata": {},
   "outputs": [],
   "source": [
    "def cleanLyrics(lyrics):\n",
    "    \n",
    "    # Cast to string\n",
    "    lyrics = str(lyrics)\n",
    "    \n",
    "    # Make all lower case\n",
    "    lyrics = lyrics.lower()\n",
    "    \n",
    "    # Init a dictionnary of all the things to remove\n",
    "    dict_remove = [\"[1er couplet]\",\"[pre-hook]\",\"[hook]\",\"[2e couplet]\",\"[outro]\",\"[intro]\",\n",
    "                   \"[3e couplet]\",\"[4e couplet]\",\"[5e couplet]\",\"[6e couplet]\",\"[pre-refrain]\",\n",
    "                   \"0\",\"1\",\"2\",\"3\",\"4\",\"5\",\"6\",\"7\",\"8\",\"9\",\n",
    "                   \"pre-hook\",\"pre-refrain\",\"couplet\",\"hook\",\"refrain\",\n",
    "                   \"c'\",\"l'\",\"j'\",\"d'\",\"t'\",\"s'\",\"m'\",\"n'\",\"qu'\",\n",
    "                   \"(\",\")\",\",\",\"[\",\"]\",\"!\",\"?\",\"_\",\"+\",\"=\",\".\",\":\",\"…\",\"’\",\"'\",\n",
    "                   \";\",\"/\",\"<\",\">\",\"{\",\"}\",\"#\",\"@\",\"$\",\"%\",\"&\",\"«\",\"»\",\"—\",\"•\"]\n",
    "    \n",
    "    for charSeq in dict_remove:\n",
    "        lyrics = lyrics.replace(charSeq,\"\")\n",
    "    \n",
    "    # Init a dictionnary of all the things to replace with space\n",
    "    dict_replace_space = [\"-\",\"\\n\",\"  \",\"   \",\"    \"]\n",
    "    \n",
    "    for charSeq in dict_replace_space:\n",
    "        lyrics = lyrics.replace(charSeq,\" \")\n",
    "    \n",
    "    \n",
    "    return lyrics"
   ]
  },
  {
   "cell_type": "code",
   "execution_count": null,
   "metadata": {},
   "outputs": [],
   "source": [
    "import json\n",
    "\n",
    "def extract_lyrics(filename):\n",
    "\n",
    "    # Load the artist's json file\n",
    "    with open(filename) as file:\n",
    "        dict_artist = json.load(file)\n",
    "\n",
    "    dict_songs = dict_artist['songs']       \n",
    "    lyrics = dict_songs[0]['lyrics']\n",
    "    \n",
    "    return cleanLyrics(lyrics)"
   ]
  },
  {
   "cell_type": "code",
   "execution_count": null,
   "metadata": {},
   "outputs": [],
   "source": [
    "import glob\n",
    "\n",
    "# Path to the directory containing all the artists\n",
    "dirPath = \"../data/*\"\n",
    "dirnames = glob.glob(dirPath)\n",
    "\n",
    "for dirname in dirnames:\n",
    "    \n",
    "    # Get all songs from the artist\n",
    "    filenames = glob.glob(dirname + \"/*.json\")\n",
    "    \n",
    "    all_lyrics = \"\"\n",
    "    for filename in filenames:\n",
    "        all_lyrics = all_lyrics + extract_lyrics(filename)\n",
    "        \n",
    "    # Write all lyrics to a file inside dir\n",
    "    newFileName = dirname + \"/all_lyrics.txt\"\n",
    "    f = open(newFileName, \"w\")\n",
    "    f.write(all_lyrics)\n",
    "    f.close()\n",
    "    "
   ]
  },
  {
   "cell_type": "code",
   "execution_count": null,
   "metadata": {},
   "outputs": [],
   "source": []
  },
  {
   "cell_type": "code",
   "execution_count": null,
   "metadata": {},
   "outputs": [],
   "source": []
  }
 ],
 "metadata": {
  "kernelspec": {
   "display_name": "Python 3",
   "language": "python",
   "name": "python3"
  },
  "language_info": {
   "codemirror_mode": {
    "name": "ipython",
    "version": 3
   },
   "file_extension": ".py",
   "mimetype": "text/x-python",
   "name": "python",
   "nbconvert_exporter": "python",
   "pygments_lexer": "ipython3",
   "version": "3.6.7"
  }
 },
 "nbformat": 4,
 "nbformat_minor": 2
}
